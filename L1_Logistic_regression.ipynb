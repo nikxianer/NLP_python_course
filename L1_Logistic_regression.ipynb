{
  "cells": [
    {
      "cell_type": "markdown",
      "metadata": {
        "id": "view-in-github",
        "colab_type": "text"
      },
      "source": [
        "<a href=\"https://colab.research.google.com/github/nikxianer/NLP_python_course/blob/main/L1_Logistic_regression.ipynb\" target=\"_parent\"><img src=\"https://colab.research.google.com/assets/colab-badge.svg\" alt=\"Open In Colab\"/></a>"
      ]
    },
    {
      "cell_type": "markdown",
      "source": [
        "# Binary classification"
      ],
      "metadata": {
        "id": "z79gbIw0bWJZ"
      }
    },
    {
      "cell_type": "markdown",
      "source": [
        "Let's see how to use logistic regression in python to solve classification problems.\n",
        "\n",
        "For the example, we will use the dataset built into sklearn to solve the binary classification problem - load_breast_cancer.\n",
        "\n",
        "The dataset contains numerical attributes of women (research results, biological characteristics) and the target variable (1 or 0) shows whether the patient has breast cancer or not.\n",
        "\n",
        "### Our goals for today:\n",
        "\n",
        "*  Train a logistic regression on the dataset presented.\n",
        "*  Evaluate the quality of the resulting model and compare it with the nearest neighbour method."
      ],
      "metadata": {
        "id": "9VDkBu75nCLq"
      }
    },
    {
      "cell_type": "markdown",
      "source": [
        "## Part 1. Loading the data and training the model."
      ],
      "metadata": {
        "id": "cgXJLC1Yjpnm"
      }
    },
    {
      "cell_type": "code",
      "execution_count": 1,
      "metadata": {
        "id": "wD3LYTXnhtwZ"
      },
      "outputs": [],
      "source": [
        "from sklearn.linear_model import LogisticRegression\n",
        "from sklearn.datasets import load_breast_cancer\n",
        "import numpy as np\n",
        "\n",
        "import warnings\n",
        "warnings.filterwarnings(\"ignore\")"
      ]
    },
    {
      "cell_type": "code",
      "execution_count": null,
      "metadata": {
        "id": "HWwIJ2AQhtwb"
      },
      "outputs": [],
      "source": [
        "data = load_breast_cancer(as_frame=True)\n",
        "\n",
        "X = data.data\n",
        "y = data.target\n",
        "\n",
        "X.shape, y.shape"
      ]
    },
    {
      "cell_type": "markdown",
      "source": [
        "Let's look at the data."
      ],
      "metadata": {
        "id": "SW_Rpf6HRZH0"
      }
    },
    {
      "cell_type": "code",
      "source": [
        "X.head()"
      ],
      "metadata": {
        "id": "3WWFMf7BRYFq"
      },
      "execution_count": null,
      "outputs": []
    },
    {
      "cell_type": "code",
      "source": [
        "y[:10]"
      ],
      "metadata": {
        "id": "cgetIc6vRgMi"
      },
      "execution_count": null,
      "outputs": []
    },
    {
      "cell_type": "markdown",
      "source": [
        "The *fractal dimension error* trait is not needed in this problem.\n",
        "\n",
        "Let's remove it (and find out how to do it)."
      ],
      "metadata": {
        "id": "p7_ylK8CbIJU"
      }
    },
    {
      "cell_type": "code",
      "source": [
        "X.drop('fractal dimension error', axis=1, inplace=True)"
      ],
      "metadata": {
        "id": "e51lgwbzbXw8"
      },
      "execution_count": null,
      "outputs": []
    },
    {
      "cell_type": "markdown",
      "source": [
        "Let's check whether the sample is balanced."
      ],
      "metadata": {
        "id": "LzXLHJNGmNg6"
      }
    },
    {
      "cell_type": "code",
      "source": [
        "len(y[y==0]), len(y[y==1])"
      ],
      "metadata": {
        "id": "NB4xFH1LiiSh"
      },
      "execution_count": null,
      "outputs": []
    },
    {
      "cell_type": "markdown",
      "source": [
        "There is no balance of classes, but the skewness is not as strong either."
      ],
      "metadata": {
        "id": "6EFYuIgSmRAv"
      }
    },
    {
      "cell_type": "markdown",
      "metadata": {
        "id": "jk6JotAMhtwe"
      },
      "source": [
        "To solve this problem we will use **linear classification model - logistic regression**.\n",
        "\n",
        "To begin with, split the data into train and test (test being 20% of all data)."
      ]
    },
    {
      "cell_type": "markdown",
      "source": [
        "![TTS.jpg](data:image/jpeg;base64,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)"
      ],
      "metadata": {
        "id": "tJPbLTSNhvfe"
      }
    },
    {
      "cell_type": "code",
      "execution_count": null,
      "metadata": {
        "id": "O4IcPGEOhtwe"
      },
      "outputs": [],
      "source": [
        "from sklearn.metrics import accuracy_score\n",
        "from sklearn.model_selection import train_test_split\n",
        "\n",
        "Xtrain, Xtest, ytrain, ytest = train_test_split(X, y, test_size=0.2, random_state=1)"
      ]
    },
    {
      "cell_type": "markdown",
      "source": [
        "For linear models, feature scaling is very important. Therefore we scale the features using StandardScaler, training the method on training data and applying it to both the train and the test."
      ],
      "metadata": {
        "id": "GbuDWle1z2Uh"
      }
    },
    {
      "cell_type": "code",
      "source": [
        "import pandas as pd\n",
        "from sklearn.preprocessing import StandardScaler\n",
        "\n",
        "ss = StandardScaler()\n",
        "ss.fit(Xtrain)\n",
        "\n",
        "Xtrain = pd.DataFrame(ss.transform(Xtrain), columns=X.columns)\n",
        "Xtest = pd.DataFrame(ss.transform(Xtest), columns=X.columns)"
      ],
      "metadata": {
        "id": "69H1fh7VzaZf"
      },
      "execution_count": null,
      "outputs": []
    },
    {
      "cell_type": "markdown",
      "metadata": {
        "id": "jjPL8ZlJhtwf"
      },
      "source": [
        "Train a logistic regression on train and make a prediction on new data for it (test)."
      ]
    },
    {
      "cell_type": "code",
      "execution_count": null,
      "metadata": {
        "colab": {
          "base_uri": "https://localhost:8080/"
        },
        "id": "mmOb1h0Chtwf",
        "outputId": "f4aacf21-197f-4e2e-aeb5-de7f89d97d25"
      },
      "outputs": [
        {
          "output_type": "execute_result",
          "data": {
            "text/plain": [
              "LogisticRegression()"
            ]
          },
          "metadata": {},
          "execution_count": 11
        }
      ],
      "source": [
        "model = LogisticRegression()\n",
        "model.fit(Xtrain, ytrain)"
      ]
    },
    {
      "cell_type": "code",
      "source": [
        "pred_test = model.predict(Xtest)"
      ],
      "metadata": {
        "id": "zsk3tPv5ia4F"
      },
      "execution_count": null,
      "outputs": []
    },
    {
      "cell_type": "markdown",
      "source": [
        "Let's look at the model predictions and estimate the proportion of correct answers."
      ],
      "metadata": {
        "id": "90VpLk2MjSUn"
      }
    },
    {
      "cell_type": "code",
      "source": [
        "pred_test[:5]"
      ],
      "metadata": {
        "id": "QCnk94hwjUy7"
      },
      "execution_count": null,
      "outputs": []
    },
    {
      "cell_type": "code",
      "source": [
        "accuracy_score(ytest, pred_test)"
      ],
      "metadata": {
        "id": "cVaD2VwskQGY"
      },
      "execution_count": null,
      "outputs": []
    },
    {
      "cell_type": "markdown",
      "source": [
        "We've got a model of excellent quality! But we remember the imbalance of the classes, so we need to calculate other metrics later on.\n",
        "\n",
        "Let's look at the model weights."
      ],
      "metadata": {
        "id": "N0qYwySGh9p_"
      }
    },
    {
      "cell_type": "code",
      "source": [
        "model.coef_, model.intercept_"
      ],
      "metadata": {
        "id": "MbBhMrg9h_5o"
      },
      "execution_count": null,
      "outputs": []
    },
    {
      "cell_type": "code",
      "source": [
        "import pandas as pd\n",
        "\n",
        "coef_table = pd.DataFrame(list(X.columns)).copy()\n",
        "coef_table.insert(len(coef_table.columns),\"Coefs\",model.coef_.transpose())\n",
        "\n",
        "coef_table.sort_values(by='Coefs')"
      ],
      "metadata": {
        "id": "IaQlscwZiiUu"
      },
      "execution_count": null,
      "outputs": []
    },
    {
      "cell_type": "markdown",
      "source": [
        "If the weight of a feature is positive, then the feature contributes positively to the response, i.e. the higher the value of the feature, the more it contributes to a positive object class and vice versa."
      ],
      "metadata": {
        "id": "52qZjNAHix1M"
      }
    },
    {
      "cell_type": "markdown",
      "source": [
        "## Part 2. Probabilities.\n",
        "We can also look at the probabilities predicted by logistic regression."
      ],
      "metadata": {
        "id": "eIExl6nvjXP8"
      }
    },
    {
      "cell_type": "code",
      "source": [
        "probs = model.predict_proba(Xtest)\n",
        "\n",
        "probs[:5]"
      ],
      "metadata": {
        "id": "RDzdg26NjcBu"
      },
      "execution_count": null,
      "outputs": []
    },
    {
      "cell_type": "markdown",
      "source": [
        "For each object, the model outputs two probabilities: the first number is the probability of class 0, the second is the probability of class 1 (you can check that the sum of the probabilities is 1)."
      ],
      "metadata": {
        "id": "rfvP9ob2jlhM"
      }
    },
    {
      "cell_type": "markdown",
      "source": [
        "## K-nearest neighbors algorithm\n",
        "\n",
        "There is another simple method for solving classification problems - the nearest neighbour method."
      ],
      "metadata": {
        "id": "c6GyG8VFjx1I"
      }
    },
    {
      "cell_type": "markdown",
      "source": [
        "![knn.png](data:image/png;base64,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)"
      ],
      "metadata": {
        "id": "HzNWHX71kHeV"
      }
    },
    {
      "cell_type": "code",
      "source": [
        "from sklearn.neighbors import KNeighborsClassifier\n",
        "\n",
        "model3 = KNeighborsClassifier()"
      ],
      "metadata": {
        "id": "TWDlWnKQa80N"
      },
      "execution_count": null,
      "outputs": []
    },
    {
      "cell_type": "code",
      "source": [
        "model3.fit(Xtrain, ytrain)\n",
        "\n",
        "pred_test3 = model3.predict(Xtest)\n",
        "\n",
        "accuracy_score(ytest, pred_test3)"
      ],
      "metadata": {
        "id": "vaWYtxqJbOQ0"
      },
      "execution_count": null,
      "outputs": []
    },
    {
      "cell_type": "markdown",
      "source": [
        "## Error matrix analysis and ROC-AUC."
      ],
      "metadata": {
        "id": "AF5H32r1kVVa"
      }
    },
    {
      "cell_type": "code",
      "source": [
        "from sklearn.metrics import confusion_matrix, roc_auc_score, roc_curve"
      ],
      "metadata": {
        "id": "BSk_lxLDkZLh"
      },
      "execution_count": null,
      "outputs": []
    },
    {
      "cell_type": "code",
      "source": [
        "confusion_matrix(ytest, pred_test)"
      ],
      "metadata": {
        "id": "C37ag29nkcHL"
      },
      "execution_count": null,
      "outputs": []
    },
    {
      "cell_type": "code",
      "source": [
        "score = roc_auc_score(ytest, probs[:,1])\n",
        "score"
      ],
      "metadata": {
        "id": "AwMiK4cPkeXj"
      },
      "execution_count": null,
      "outputs": []
    },
    {
      "cell_type": "code",
      "source": [
        "import matplotlib.pyplot as plt\n",
        "\n",
        "fpr, tpr, threshold = roc_curve(ytest, probs[:,1])\n",
        "plt.title('Receiver Operating Characteristic')\n",
        "plt.plot(fpr, tpr, 'b', label = 'AUC = %0.2f' % score)"
      ],
      "metadata": {
        "id": "IbgiBefDkrs2"
      },
      "execution_count": null,
      "outputs": []
    }
  ],
  "metadata": {
    "kernelspec": {
      "display_name": "Python 3",
      "language": "python",
      "name": "python3"
    },
    "language_info": {
      "codemirror_mode": {
        "name": "ipython",
        "version": 3
      },
      "file_extension": ".py",
      "mimetype": "text/x-python",
      "name": "python",
      "nbconvert_exporter": "python",
      "pygments_lexer": "ipython3",
      "version": "3.7.6"
    },
    "colab": {
      "provenance": [],
      "include_colab_link": true
    }
  },
  "nbformat": 4,
  "nbformat_minor": 0
}